{
 "cells": [
  {
   "cell_type": "code",
   "execution_count": 1,
   "metadata": {},
   "outputs": [],
   "source": [
    "from pyspark.sql import functions as F\n",
    "from pyspark.sql import SparkSession\n",
    "import matplotlib.pyplot as plt\n",
    "import pandas as pd\n",
    "from matplotlib.dates import (YEARLY, DateFormatter, rrulewrapper, RRuleLocator, drange)\n",
    "from pandas.plotting import register_matplotlib_converters\n",
    "register_matplotlib_converters()\n",
    "import dataframe_image as dfi"
   ]
  },
  {
   "cell_type": "code",
   "execution_count": 2,
   "metadata": {},
   "outputs": [],
   "source": [
    "spark = SparkSession.builder.appName('App').config(\"spark.some.config.option\", \"some-value\").getOrCreate()"
   ]
  },
  {
   "cell_type": "markdown",
   "metadata": {},
   "source": [
    "## NYC Hate Crimes 2019-2020"
   ]
  },
  {
   "cell_type": "code",
   "execution_count": 3,
   "metadata": {},
   "outputs": [],
   "source": [
    "crimes = spark.read.format(\"csv\").options(header=\"true\", inferschema=\"true\").load(\"data/NYPD_Hate_Crimes.csv\")\n",
    "# Replace the space in column names with '_' to simplify query\n",
    "crimes = crimes.select([F.col(col).alias(col.replace(' ', '_')) for col in crimes.columns])"
   ]
  },
  {
   "cell_type": "code",
   "execution_count": 4,
   "metadata": {},
   "outputs": [
    {
     "name": "stdout",
     "output_type": "stream",
     "text": [
      "root\n",
      " |-- Full_Complaint_ID: long (nullable = true)\n",
      " |-- Complaint_Year_Number: integer (nullable = true)\n",
      " |-- Month_Number: integer (nullable = true)\n",
      " |-- Record_Create_Date: string (nullable = true)\n",
      " |-- Complaint_Precinct_Code: integer (nullable = true)\n",
      " |-- Patrol_Borough_Name: string (nullable = true)\n",
      " |-- County: string (nullable = true)\n",
      " |-- Law_Code_Category_Description: string (nullable = true)\n",
      " |-- Offense_Description: string (nullable = true)\n",
      " |-- PD_Code_Description: string (nullable = true)\n",
      " |-- Bias_Motive_Description: string (nullable = true)\n",
      " |-- Offense_Category: string (nullable = true)\n",
      " |-- Other_Motive_Description: string (nullable = true)\n",
      " |-- Arrest_Date: string (nullable = true)\n",
      " |-- Arrest_Id: string (nullable = true)\n",
      "\n"
     ]
    }
   ],
   "source": [
    "crimes.createOrReplaceTempView(\"crimes\")\n",
    "crimes.printSchema()"
   ]
  },
  {
   "cell_type": "code",
   "execution_count": 5,
   "metadata": {},
   "outputs": [
    {
     "name": "stdout",
     "output_type": "stream",
     "text": [
      "root\n",
      " |-- ID: long (nullable = true)\n",
      " |-- Year: integer (nullable = true)\n",
      " |-- Month: integer (nullable = true)\n",
      " |-- Date: string (nullable = true)\n",
      " |-- Precinct: integer (nullable = true)\n",
      " |-- County: string (nullable = true)\n",
      " |-- Law_Code_Category: string (nullable = true)\n",
      " |-- Offense: string (nullable = true)\n",
      " |-- Bias_Motive: string (nullable = true)\n",
      " |-- Offense_Category: string (nullable = true)\n",
      " |-- Other_Motive_Description: string (nullable = true)\n",
      " |-- Arrest: string (nullable = true)\n",
      "\n"
     ]
    }
   ],
   "source": [
    "query = \"select Full_Complaint_ID as ID, Complaint_Year_Number as Year, Month_Number as Month, Record_Create_Date as Date, Complaint_Precinct_Code as Precinct, County, Law_Code_Category_Description as Law_Code_Category, Offense_Description as Offense, Bias_Motive_Description as Bias_Motive, Offense_Category, Other_Motive_Description, Arrest_Id as Arrest from crimes\"\n",
    "crimes = spark.sql(query)\n",
    "crimes.createOrReplaceTempView(\"crimes\")\n",
    "crimes.printSchema()"
   ]
  },
  {
   "cell_type": "code",
   "execution_count": 6,
   "metadata": {},
   "outputs": [],
   "source": [
    "query = \"select * from crimes where Year = 2019\"\n",
    "crimes_2019 = spark.sql(query)\n",
    "crimes_2019.createOrReplaceTempView(\"crimes_2019\")"
   ]
  },
  {
   "cell_type": "code",
   "execution_count": 7,
   "metadata": {},
   "outputs": [],
   "source": [
    "query = \"select * from crimes where Year = 2020\"\n",
    "crimes_2020 = spark.sql(query)\n",
    "crimes_2020.createOrReplaceTempView(\"crimes_2020\")"
   ]
  },
  {
   "cell_type": "code",
   "execution_count": 8,
   "metadata": {},
   "outputs": [
    {
     "name": "stdout",
     "output_type": "stream",
     "text": [
      "+----+-----+\n",
      "|Year|Count|\n",
      "+----+-----+\n",
      "|2019|  446|\n",
      "|2020|  282|\n",
      "+----+-----+\n",
      "\n"
     ]
    }
   ],
   "source": [
    "query = \"select Year, count(*) as Count from crimes group by Year\"\n",
    "crimes_count = spark.sql(query)\n",
    "crimes_count.show()\n",
    "# dfi.export(crimes_count.toPandas(), 'crimes_count.png')"
   ]
  },
  {
   "cell_type": "markdown",
   "metadata": {},
   "source": [
    "## Covid Daily Cases - 2020"
   ]
  },
  {
   "cell_type": "code",
   "execution_count": 9,
   "metadata": {},
   "outputs": [
    {
     "name": "stdout",
     "output_type": "stream",
     "text": [
      "root\n",
      " |-- date_of_interest: string (nullable = true)\n",
      " |-- CASE_COUNT: integer (nullable = true)\n",
      " |-- PROBABLE_CASE_COUNT: integer (nullable = true)\n",
      " |-- CASE_COUNT_7DAY_AVG: integer (nullable = true)\n",
      " |-- ALL_CASE_COUNT_7DAY_AVG: integer (nullable = true)\n",
      " |-- BX_CASE_COUNT: integer (nullable = true)\n",
      " |-- BX_PROBABLE_CASE_COUNT: integer (nullable = true)\n",
      " |-- BX_CASE_COUNT_7DAY_AVG: integer (nullable = true)\n",
      " |-- BX_ALL_CASE_COUNT_7DAY_AVG: integer (nullable = true)\n",
      " |-- BK_CASE_COUNT: integer (nullable = true)\n",
      " |-- BK_PROBABLE_CASE_COUNT: integer (nullable = true)\n",
      " |-- BK_CASE_COUNT_7DAY_AVG: integer (nullable = true)\n",
      " |-- BK_ALL_CASE_COUNT_7DAY_AVG: integer (nullable = true)\n",
      " |-- MN_CASE_COUNT: integer (nullable = true)\n",
      " |-- MN_PROBABLE_CASE_COUNT: integer (nullable = true)\n",
      " |-- MN_CASE_COUNT_7DAY_AVG: integer (nullable = true)\n",
      " |-- MN_ALL_CASE_COUNT_7DAY_AVG: integer (nullable = true)\n",
      " |-- QN_CASE_COUNT: integer (nullable = true)\n",
      " |-- QN_PROBABLE_CASE_COUNT: integer (nullable = true)\n",
      " |-- QN_CASE_COUNT_7DAY_AVG: integer (nullable = true)\n",
      " |-- QN_ALL_CASE_COUNT_7DAY_AVG: integer (nullable = true)\n",
      " |-- SI_CASE_COUNT: integer (nullable = true)\n",
      " |-- SI_PROBABLE_CASE_COUNT: integer (nullable = true)\n",
      " |-- SI_CASE_COUNT_7DAY_AVG: integer (nullable = true)\n",
      " |-- SI_ALL_CASE_COUNT_7DAY_AVG: integer (nullable = true)\n",
      " |-- INCOMPLETE: integer (nullable = true)\n",
      "\n"
     ]
    }
   ],
   "source": [
    "cases = spark.read.format(\"csv\").options(header=\"true\", inferschema=\"true\").load(\"data/cases-by-day.csv\")\n",
    "cases.createOrReplaceTempView(\"cases\")\n",
    "cases.printSchema()"
   ]
  },
  {
   "cell_type": "code",
   "execution_count": 10,
   "metadata": {},
   "outputs": [],
   "source": [
    "query = \"select date_of_interest as Date, CASE_COUNT as Count, BX_CASE_COUNT as BRONX, BK_CASE_COUNT as KINGS, MN_CASE_COUNT as NEW_YORK, QN_CASE_COUNT as QUEENS, SI_CASE_COUNT as RICHMOND from cases\"\n",
    "cases = spark.sql(query)\n",
    "cases.createOrReplaceTempView(\"cases\")"
   ]
  },
  {
   "cell_type": "code",
   "execution_count": 11,
   "metadata": {},
   "outputs": [
    {
     "name": "stdout",
     "output_type": "stream",
     "text": [
      "+----------+-----+-----+-----+--------+------+--------+\n",
      "|      Date|Count|BRONX|KINGS|NEW_YORK|QUEENS|RICHMOND|\n",
      "+----------+-----+-----+-----+--------+------+--------+\n",
      "|02/29/2020|    1|    0|    0|       1|     0|       0|\n",
      "|03/01/2020|    0|    0|    0|       0|     0|       0|\n",
      "|03/02/2020|    0|    0|    0|       0|     0|       0|\n",
      "|03/03/2020|    1|    0|    0|       0|     1|       0|\n",
      "|03/04/2020|    5|    0|    1|       2|     2|       0|\n",
      "|03/05/2020|    3|    0|    3|       0|     0|       0|\n",
      "|03/06/2020|    8|    2|    1|       3|     1|       1|\n",
      "|03/07/2020|    7|    0|    2|       1|     3|       1|\n",
      "|03/08/2020|   21|    3|    5|       6|     6|       1|\n",
      "|03/09/2020|   57|    4|   16|      24|    10|       3|\n",
      "|03/10/2020|   69|    8|   11|      24|    24|       2|\n",
      "|03/11/2020|  155|   19|   31|      62|    40|       3|\n",
      "|03/12/2020|  355|   29|   96|     137|    80|      13|\n",
      "|03/13/2020|  619|   79|  166|     182|   166|      26|\n",
      "|03/14/2020|  642|   86|  163|     176|   194|      23|\n",
      "|03/15/2020| 1035|  119|  433|     206|   230|      47|\n",
      "|03/16/2020| 2121|  305|  740|     457|   528|      91|\n",
      "|03/17/2020| 2452|  343|  783|     567|   651|     108|\n",
      "|03/18/2020| 2971|  482|  966|     538|   834|     150|\n",
      "|03/19/2020| 3707|  623| 1204|     556|  1065|     258|\n",
      "+----------+-----+-----+-----+--------+------+--------+\n",
      "only showing top 20 rows\n",
      "\n"
     ]
    }
   ],
   "source": [
    "query = \"select * from cases where Date like '%/2020'\"\n",
    "cases_2020 = spark.sql(query)\n",
    "cases_2020.createOrReplaceTempView(\"cases_2020\")\n",
    "cases_2020.show()"
   ]
  },
  {
   "cell_type": "markdown",
   "metadata": {},
   "source": [
    "## Relationship between Anti-Asian hate and Covid cases"
   ]
  },
  {
   "cell_type": "code",
   "execution_count": 12,
   "metadata": {
    "scrolled": true
   },
   "outputs": [
    {
     "name": "stdout",
     "output_type": "stream",
     "text": [
      "+-----+-----+\n",
      "|Count|Month|\n",
      "+-----+-----+\n",
      "|    2|    1|\n",
      "|   15|    3|\n",
      "|    4|    4|\n",
      "|    3|    5|\n",
      "|    1|    6|\n",
      "|    3|    7|\n",
      "|    1|    9|\n",
      "|    1|   10|\n",
      "|    2|   12|\n",
      "+-----+-----+\n",
      "\n"
     ]
    }
   ],
   "source": [
    "query = \"select count (*) as Count, Month from crimes_2020 where Bias_Motive like '%ASIAN%' or Other_Motive_Description like '%ASIAN%' group by Month order by Month ASC\"\n",
    "# query = \"select * from crimes_2020 where Bias_Motive like '%ANTI-ASIAN%' or Other_Motive_Description like '%ASIAN%' order by Month ASC\"\n",
    "# query = \"select count (*) from crimes\"\n",
    "# query = \"select count(*), Year from crimes where Bias_Motive = 'ANTI-ASIAN' group by Year\"\n",
    "# query = \"select count(*), Bias_Motive from crimes_2019 group by Bias_Motive\"\n",
    "asian_hate_by_month = spark.sql(query)\n",
    "asian_hate_by_month.show()"
   ]
  },
  {
   "cell_type": "code",
   "execution_count": 13,
   "metadata": {},
   "outputs": [
    {
     "name": "stdout",
     "output_type": "stream",
     "text": [
      "+-----+-----+\n",
      "|Count|Month|\n",
      "+-----+-----+\n",
      "|    2|    1|\n",
      "|    0|    2|\n",
      "|   15|    3|\n",
      "|    4|    4|\n",
      "|    3|    5|\n",
      "|    1|    6|\n",
      "|    3|    7|\n",
      "|    0|    8|\n",
      "|    1|    9|\n",
      "|    1|   10|\n",
      "|    0|   11|\n",
      "|    2|   12|\n",
      "+-----+-----+\n",
      "\n"
     ]
    }
   ],
   "source": [
    "asian_hate_by_month.createOrReplaceTempView(\"asian_hate_by_month\")\n",
    "query = \"select * from asian_hate_by_month union values (0,2), (0,8), (0,11) order by abs(Month)\"\n",
    "asian_hate_by_month = spark.sql(query)\n",
    "asian_hate_by_month.show()"
   ]
  },
  {
   "cell_type": "code",
   "execution_count": 14,
   "metadata": {},
   "outputs": [
    {
     "name": "stdout",
     "output_type": "stream",
     "text": [
      "+-----+----------+\n",
      "|Count|      Date|\n",
      "+-----+----------+\n",
      "|    1|02/29/2020|\n",
      "|    0|03/01/2020|\n",
      "|    0|03/02/2020|\n",
      "|    1|03/03/2020|\n",
      "|    5|03/04/2020|\n",
      "|    3|03/05/2020|\n",
      "|    8|03/06/2020|\n",
      "|    7|03/07/2020|\n",
      "|   21|03/08/2020|\n",
      "|   57|03/09/2020|\n",
      "|   69|03/10/2020|\n",
      "|  155|03/11/2020|\n",
      "|  355|03/12/2020|\n",
      "|  619|03/13/2020|\n",
      "|  642|03/14/2020|\n",
      "| 1035|03/15/2020|\n",
      "| 2121|03/16/2020|\n",
      "| 2452|03/17/2020|\n",
      "| 2971|03/18/2020|\n",
      "| 3707|03/19/2020|\n",
      "+-----+----------+\n",
      "only showing top 20 rows\n",
      "\n"
     ]
    }
   ],
   "source": [
    "query = \"select Count, Date from cases_2020\"\n",
    "cases_by_date = spark.sql(query)\n",
    "cases_by_date.show()"
   ]
  },
  {
   "cell_type": "code",
   "execution_count": 15,
   "metadata": {},
   "outputs": [
    {
     "name": "stdout",
     "output_type": "stream",
     "text": [
      "+------+-----+\n",
      "|   Num|Month|\n",
      "+------+-----+\n",
      "|     1|    2|\n",
      "| 65188|    3|\n",
      "|109299|    4|\n",
      "| 28436|    5|\n",
      "| 10868|    6|\n",
      "|  9813|    7|\n",
      "|  7456|    8|\n",
      "| 10327|    9|\n",
      "| 16775|   10|\n",
      "| 44395|   11|\n",
      "| 97352|   12|\n",
      "+------+-----+\n",
      "\n"
     ]
    }
   ],
   "source": [
    "cases_by_month = cases_by_date.toPandas()\n",
    "cases_by_month['Date'] = cases_by_month['Date'].apply(lambda x: str(int(x[:2])))\n",
    "cases_by_month = spark.createDataFrame(cases_by_month).createOrReplaceTempView(\"cases_by_month\")\n",
    "query = \"select sum(Count) as Num, Date as Month from cases_by_month group by Date order by abs(Month)\"\n",
    "cases_by_month = spark.sql(query)\n",
    "cases_by_month.show()"
   ]
  },
  {
   "cell_type": "code",
   "execution_count": 16,
   "metadata": {
    "scrolled": true
   },
   "outputs": [
    {
     "name": "stdout",
     "output_type": "stream",
     "text": [
      "+------+-----+\n",
      "|   Num|Month|\n",
      "+------+-----+\n",
      "|     0|    1|\n",
      "|     1|    2|\n",
      "| 65188|    3|\n",
      "|109299|    4|\n",
      "| 28436|    5|\n",
      "| 10868|    6|\n",
      "|  9813|    7|\n",
      "|  7456|    8|\n",
      "| 10327|    9|\n",
      "| 16775|   10|\n",
      "| 44395|   11|\n",
      "| 97352|   12|\n",
      "+------+-----+\n",
      "\n"
     ]
    }
   ],
   "source": [
    "cases_by_month.createOrReplaceTempView(\"cases_by_month\")\n",
    "query = \"select * from cases_by_month union values (0,1) order by abs(Month)\"\n",
    "cases_by_month = spark.sql(query)\n",
    "cases_by_month.show()"
   ]
  },
  {
   "cell_type": "code",
   "execution_count": 17,
   "metadata": {},
   "outputs": [
    {
     "data": {
      "image/png": "[encoded data removed]",
      "text/plain": [
       "<Figure size 432x288 with 2 Axes>"
      ]
     },
     "metadata": {
      "needs_background": "light"
     },
     "output_type": "display_data"
    }
   ],
   "source": [
    "fig, ax1 = plt.subplots()\n",
    "fig.suptitle('Anti-Asian Hate Crimes vs Covid-19 Cases Trend by Month in 2020')\n",
    "ax1.set_xlabel('Month')\n",
    "ax1.set_ylabel('Hate Crime Incidents', color = 'tab:red')\n",
    "ax1.plot(cases_by_month.toPandas().loc[:,'Month'], asian_hate_by_month.toPandas().loc[:,'Count'], color = 'tab:red')\n",
    "ax1.tick_params(axis='y', labelcolor='tab:red')\n",
    "ax2 = ax1.twinx()\n",
    "ax2.set_ylabel('Covid Cases', color = 'tab:blue')\n",
    "ax2.plot(cases_by_month.toPandas().loc[:,'Month'], cases_by_month.toPandas().loc[:,'Num'], color = 'tab:blue')\n",
    "ax2.tick_params(axis='y', labelcolor='tab:blue')\n",
    "fig.tight_layout()\n",
    "# plt.savefig(\"Hate and covid trend\")\n",
    "# plt.show()"
   ]
  },
  {
   "cell_type": "code",
   "execution_count": 18,
   "metadata": {},
   "outputs": [
    {
     "data": {
      "text/plain": [
       "[<matplotlib.lines.Line2D at 0x7f81d46ce5c0>]"
      ]
     },
     "execution_count": 18,
     "metadata": {},
     "output_type": "execute_result"
    },
    {
     "data": {
      "image/png": "[encoded data removed]",
      "text/plain": [
       "<Figure size 432x288 with 2 Axes>"
      ]
     },
     "metadata": {
      "needs_background": "light"
     },
     "output_type": "display_data"
    }
   ],
   "source": [
    "fig, axs = plt.subplots(2)\n",
    "fig.suptitle('Anti-Asian Hate Crimes Trend vs Covid-19 Cases Trend')\n",
    "axs[0].plot(cases_by_month.toPandas().loc[:,'Month'], asian_hate_by_month.toPandas().loc[:,'Count'], color = 'tab:red')\n",
    "axs[1].plot(cases_by_month.toPandas().loc[:,'Month'], cases_by_month.toPandas().loc[:,'Num'], color = 'tab:blue')"
   ]
  },
  {
   "cell_type": "markdown",
   "metadata": {},
   "source": [
    "## Hate Crime Offense Catogory's Shift in 2019-2020"
   ]
  },
  {
   "cell_type": "code",
   "execution_count": 19,
   "metadata": {},
   "outputs": [
    {
     "data": {
      "text/html": [
       "<div>\n",
       "<style scoped>\n",
       "    .dataframe tbody tr th:only-of-type {\n",
       "        vertical-align: middle;\n",
       "    }\n",
       "\n",
       "    .dataframe tbody tr th {\n",
       "        vertical-align: top;\n",
       "    }\n",
       "\n",
       "    .dataframe thead th {\n",
       "        text-align: right;\n",
       "    }\n",
       "</style>\n",
       "<table border=\"1\" class=\"dataframe\">\n",
       "  <thead>\n",
       "    <tr style=\"text-align: right;\">\n",
       "      <th></th>\n",
       "      <th>Count</th>\n",
       "      <th>Offense_Category</th>\n",
       "    </tr>\n",
       "  </thead>\n",
       "  <tbody>\n",
       "    <tr>\n",
       "      <th>0</th>\n",
       "      <td>66</td>\n",
       "      <td>Race/Color</td>\n",
       "    </tr>\n",
       "    <tr>\n",
       "      <th>1</th>\n",
       "      <td>277</td>\n",
       "      <td>Religion/Religious Practice</td>\n",
       "    </tr>\n",
       "    <tr>\n",
       "      <th>2</th>\n",
       "      <td>64</td>\n",
       "      <td>Sexual Orientation</td>\n",
       "    </tr>\n",
       "    <tr>\n",
       "      <th>3</th>\n",
       "      <td>22</td>\n",
       "      <td>Ethnicity/National Origin/Ancestry</td>\n",
       "    </tr>\n",
       "    <tr>\n",
       "      <th>4</th>\n",
       "      <td>1</td>\n",
       "      <td>Disability</td>\n",
       "    </tr>\n",
       "    <tr>\n",
       "      <th>5</th>\n",
       "      <td>3</td>\n",
       "      <td>Unclassified</td>\n",
       "    </tr>\n",
       "    <tr>\n",
       "      <th>6</th>\n",
       "      <td>13</td>\n",
       "      <td>Gender</td>\n",
       "    </tr>\n",
       "  </tbody>\n",
       "</table>\n",
       "</div>"
      ],
      "text/plain": [
       "   Count                    Offense_Category\n",
       "0     66                          Race/Color\n",
       "1    277         Religion/Religious Practice\n",
       "2     64                  Sexual Orientation\n",
       "3     22  Ethnicity/National Origin/Ancestry\n",
       "4      1                          Disability\n",
       "5      3                        Unclassified\n",
       "6     13                              Gender"
      ]
     },
     "execution_count": 19,
     "metadata": {},
     "output_type": "execute_result"
    }
   ],
   "source": [
    "query = \"select count(*) as Count, Offense_Category from crimes_2019 group by Offense_Category\"\n",
    "crimes_2019_category = spark.sql(query)\n",
    "query = \"select count(*) as Count, Offense_Category from crimes_2020 group by Offense_Category\"\n",
    "crimes_2020_category = spark.sql(query)\n",
    "crimes_2019_category.toPandas()\n",
    "# crimes_2020_category.toPandas()\n",
    "# dfi.export(crimes_2020_category.toPandas(), 'crimes_20_category.png')"
   ]
  },
  {
   "cell_type": "code",
   "execution_count": 20,
   "metadata": {},
   "outputs": [
    {
     "data": {
      "text/plain": [
       "([<matplotlib.patches.Wedge at 0x7f81d486bd68>,\n",
       "  <matplotlib.patches.Wedge at 0x7f81d487b630>,\n",
       "  <matplotlib.patches.Wedge at 0x7f81d487bf60>,\n",
       "  <matplotlib.patches.Wedge at 0x7f81d488b8d0>,\n",
       "  <matplotlib.patches.Wedge at 0x7f81d4898240>,\n",
       "  <matplotlib.patches.Wedge at 0x7f81d4898b70>,\n",
       "  <matplotlib.patches.Wedge at 0x7f81d48a94e0>],\n",
       " [Text(1.0726400308874446, 0.5379994090496585, 'Race/Color'),\n",
       "  Text(-1.0628519026933152, 0.28345340523832085, 'Religion/Religious Practice'),\n",
       "  Text(0.5941121739170606, -0.9257595394072612, 'Sexual Orientation'),\n",
       "  Text(1.0155246182739945, -0.42274075942527445, 'Ethnicity/National Origin/Ancestry'),\n",
       "  Text(1.0704155007024638, -0.25339821596825396, 'Disability'),\n",
       "  Text(1.0771293750846356, -0.2231419040202511, 'Unclassified'),\n",
       "  Text(1.0953913261823194, -0.1005874869183041, 'Gender')],\n",
       " [Text(0.6257066846843427, 0.3138329886123008, '14.8%'),\n",
       "  Text(-0.5797374014690809, 0.15461094831181135, '62.1%'),\n",
       "  Text(0.32406118577294213, -0.504959748767597, '14.3%'),\n",
       "  Text(0.5539225190585424, -0.2305858687774224, '4.9%'),\n",
       "  Text(0.583863000383162, -0.13821720870995668, '0.2%'),\n",
       "  Text(0.5875251136825284, -0.12171376582922787, '0.7%'),\n",
       "  Text(0.5974861779176287, -0.0548659019554386, '2.9%')])"
      ]
     },
     "execution_count": 20,
     "metadata": {},
     "output_type": "execute_result"
    },
    {
     "data": {
      "image/png": "[encoded data removed]",
      "text/plain": [
       "<Figure size 432x288 with 1 Axes>"
      ]
     },
     "metadata": {},
     "output_type": "display_data"
    }
   ],
   "source": [
    "plt.suptitle('Hate Crimes by Offense Category in 2019')\n",
    "explode1 = (0.1, 0, 0, 0, 0, 0, 0)\n",
    "plt.pie(crimes_2019_category.toPandas()['Count'], explode = explode1, labels = crimes_2019_category.toPandas()['Offense_Category'], autopct='%1.1f%%', shadow=True)\n",
    "# plt.savefig(\"Hate Crimes by Offense Category in 2019\")"
   ]
  },
  {
   "cell_type": "code",
   "execution_count": 21,
   "metadata": {},
   "outputs": [
    {
     "data": {
      "text/plain": [
       "([<matplotlib.patches.Wedge at 0x7f81d49970b8>,\n",
       "  <matplotlib.patches.Wedge at 0x7f81d4997a58>,\n",
       "  <matplotlib.patches.Wedge at 0x7f81d49a73c8>,\n",
       "  <matplotlib.patches.Wedge at 0x7f81d49a7cf8>,\n",
       "  <matplotlib.patches.Wedge at 0x7f81d49b7668>,\n",
       "  <matplotlib.patches.Wedge at 0x7f81d49b7f98>,\n",
       "  <matplotlib.patches.Wedge at 0x7f81d4a11908>],\n",
       " [Text(1.0999317410349614, 0.01225418556243977, 'Age'),\n",
       "  Text(0.7225338767615822, 0.9580943570086815, 'Race/Color'),\n",
       "  Text(-1.072808903848063, -0.24306594953698843, 'Religion/Religious Practice'),\n",
       "  Text(0.24306595267585177, -1.0728089031368917, 'Other'),\n",
       "  Text(0.6623226946685343, -0.8782531799697691, 'Sexual Orientation'),\n",
       "  Text(0.9872365559769722, -0.48514325981376555, 'Ethnicity/National Origin/Ancestry'),\n",
       "  Text(1.0803318446768448, -0.20708236375202468, 'Gender')],\n",
       " [Text(0.5999627678372517, 0.006684101215876237, '0.4%'),\n",
       "  Text(0.42147809477758963, 0.5588883749217308, '28.7%'),\n",
       "  Text(-0.5851684930080343, -0.1325814270201755, '48.9%'),\n",
       "  Text(0.13258142873228276, -0.5851684926201227, '1.1%'),\n",
       "  Text(0.361266924364655, -0.47904718907441945, '12.4%'),\n",
       "  Text(0.5384926668965302, -0.2646235962620539, '2.5%'),\n",
       "  Text(0.5892719152782789, -0.11295401659201346, '6.0%')])"
      ]
     },
     "execution_count": 21,
     "metadata": {},
     "output_type": "execute_result"
    },
    {
     "data": {
      "image/png": "[encoded data removed]",
      "text/plain": [
       "<Figure size 432x288 with 1 Axes>"
      ]
     },
     "metadata": {},
     "output_type": "display_data"
    }
   ],
   "source": [
    "explode2 = (0, 0.1, 0, 0, 0, 0, 0)\n",
    "plt.suptitle('Hate Crimes by Offense Category in 2020')\n",
    "plt.pie(crimes_2020_category.toPandas()['Count'], explode = explode2, labels = crimes_2020_category.toPandas()['Offense_Category'], autopct='%1.1f%%', shadow=True)\n",
    "# plt.savefig(\"Hate Crimes by Offense Category in 2020\")"
   ]
  },
  {
   "cell_type": "markdown",
   "metadata": {},
   "source": [
    "## Percentage of Anti-Asian Hate Crimes in 2019-2020"
   ]
  },
  {
   "cell_type": "code",
   "execution_count": 26,
   "metadata": {},
   "outputs": [
    {
     "data": {
      "text/html": [
       "<div>\n",
       "<style scoped>\n",
       "    .dataframe tbody tr th:only-of-type {\n",
       "        vertical-align: middle;\n",
       "    }\n",
       "\n",
       "    .dataframe tbody tr th {\n",
       "        vertical-align: top;\n",
       "    }\n",
       "\n",
       "    .dataframe thead th {\n",
       "        text-align: right;\n",
       "    }\n",
       "</style>\n",
       "<table border=\"1\" class=\"dataframe\">\n",
       "  <thead>\n",
       "    <tr style=\"text-align: right;\">\n",
       "      <th></th>\n",
       "      <th>Num</th>\n",
       "      <th>Bias_Motive</th>\n",
       "    </tr>\n",
       "  </thead>\n",
       "  <tbody>\n",
       "    <tr>\n",
       "      <th>0</th>\n",
       "      <td>28</td>\n",
       "      <td>ANTI-WHITE</td>\n",
       "    </tr>\n",
       "    <tr>\n",
       "      <th>1</th>\n",
       "      <td>1</td>\n",
       "      <td>ANTI-MULTI RACIAL GROUPS</td>\n",
       "    </tr>\n",
       "    <tr>\n",
       "      <th>2</th>\n",
       "      <td>36</td>\n",
       "      <td>ANTI-BLACK</td>\n",
       "    </tr>\n",
       "    <tr>\n",
       "      <th>3</th>\n",
       "      <td>1</td>\n",
       "      <td>ANTI-ASIAN</td>\n",
       "    </tr>\n",
       "  </tbody>\n",
       "</table>\n",
       "</div>"
      ],
      "text/plain": [
       "   Num               Bias_Motive\n",
       "0   28                ANTI-WHITE\n",
       "1    1  ANTI-MULTI RACIAL GROUPS\n",
       "2   36                ANTI-BLACK\n",
       "3    1                ANTI-ASIAN"
      ]
     },
     "execution_count": 26,
     "metadata": {},
     "output_type": "execute_result"
    }
   ],
   "source": [
    "query = \"select count(*) as Num, Bias_Motive from crimes_2020 where Offense_Category = 'Race/Color' group by Bias_Motive\"\n",
    "crimes_by_race_2020 = spark.sql(query)\n",
    "crimes_by_race_2020.createOrReplaceTempView(\"res\")\n",
    "query = \"select count(*) as Num, Bias_Motive from crimes_2019 where Offense_Category = 'Race/Color' group by Bias_Motive\"\n",
    "crimes_by_race_2019 = spark.sql(query)\n",
    "crimes_by_race_2019.createOrReplaceTempView(\"res\")\n",
    "crimes_by_race_2019.toPandas()\n",
    "# dfi.export(crimes_by_race_2020.toPandas(), 'crimes_20_race.png')"
   ]
  },
  {
   "cell_type": "code",
   "execution_count": 27,
   "metadata": {},
   "outputs": [
    {
     "data": {
      "text/html": [
       "<div>\n",
       "<style scoped>\n",
       "    .dataframe tbody tr th:only-of-type {\n",
       "        vertical-align: middle;\n",
       "    }\n",
       "\n",
       "    .dataframe tbody tr th {\n",
       "        vertical-align: top;\n",
       "    }\n",
       "\n",
       "    .dataframe thead th {\n",
       "        text-align: right;\n",
       "    }\n",
       "</style>\n",
       "<table border=\"1\" class=\"dataframe\">\n",
       "  <thead>\n",
       "    <tr style=\"text-align: right;\">\n",
       "      <th></th>\n",
       "      <th>Num</th>\n",
       "      <th>Bias_Motive</th>\n",
       "    </tr>\n",
       "  </thead>\n",
       "  <tbody>\n",
       "    <tr>\n",
       "      <th>0</th>\n",
       "      <td>10</td>\n",
       "      <td>ANTI-WHITE</td>\n",
       "    </tr>\n",
       "    <tr>\n",
       "      <th>1</th>\n",
       "      <td>2</td>\n",
       "      <td>ANTI-MULTI RACIAL GROUPS</td>\n",
       "    </tr>\n",
       "    <tr>\n",
       "      <th>2</th>\n",
       "      <td>39</td>\n",
       "      <td>ANTI-BLACK</td>\n",
       "    </tr>\n",
       "    <tr>\n",
       "      <th>3</th>\n",
       "      <td>30</td>\n",
       "      <td>ANTI-ASIAN</td>\n",
       "    </tr>\n",
       "  </tbody>\n",
       "</table>\n",
       "</div>"
      ],
      "text/plain": [
       "   Num               Bias_Motive\n",
       "0   10                ANTI-WHITE\n",
       "1    2  ANTI-MULTI RACIAL GROUPS\n",
       "2   39                ANTI-BLACK\n",
       "3   30                ANTI-ASIAN"
      ]
     },
     "execution_count": 27,
     "metadata": {},
     "output_type": "execute_result"
    }
   ],
   "source": [
    "crimes_by_race_2020.toPandas()"
   ]
  },
  {
   "cell_type": "code",
   "execution_count": 23,
   "metadata": {},
   "outputs": [
    {
     "data": {
      "text/plain": [
       "([<matplotlib.patches.Wedge at 0x7f81d4ada9e8>,\n",
       "  <matplotlib.patches.Wedge at 0x7f81d4ae83c8>,\n",
       "  <matplotlib.patches.Wedge at 0x7f81d4ae8cf8>,\n",
       "  <matplotlib.patches.Wedge at 0x7f81d4afa668>],\n",
       " [Text(0.25933478659950576, 1.0689927354567892, 'ANTI-WHITE'),\n",
       "  Text(-1.0005952318392295, 0.4569564333944747, 'ANTI-MULTI RACIAL GROUPS'),\n",
       "  Text(-0.2593346865131817, -1.0689927597374596, 'ANTI-BLACK'),\n",
       "  Text(1.2985275524329845, -0.061856249259093804, 'ANTI-ASIAN')],\n",
       " [Text(0.14145533814518496, 0.583086946612794, '42.4%'),\n",
       "  Text(-0.5457792173668523, 0.24924896366971347, '1.5%'),\n",
       "  Text(-0.14145528355264453, -0.583086959856796, '54.5%'),\n",
       "  Text(0.7990938784202981, -0.03806538415944234, '1.5%')])"
      ]
     },
     "execution_count": 23,
     "metadata": {},
     "output_type": "execute_result"
    },
    {
     "data": {
      "image/png": "[encoded data removed]",
      "text/plain": [
       "<Figure size 432x288 with 1 Axes>"
      ]
     },
     "metadata": {},
     "output_type": "display_data"
    }
   ],
   "source": [
    "explode = (0, 0, 0, 0.2)\n",
    "plt.suptitle('Hate Crimes by Race in 2019')\n",
    "plt.pie(crimes_by_race_2019.toPandas()['Num'], explode = explode, labels = crimes_by_race_2019.toPandas()['Bias_Motive'], autopct='%1.1f%%', shadow=True)\n",
    "# plt.savefig(\"Hate Crimes by Race in 2019\")"
   ]
  },
  {
   "cell_type": "code",
   "execution_count": 24,
   "metadata": {},
   "outputs": [
    {
     "data": {
      "text/plain": [
       "([<matplotlib.patches.Wedge at 0x7f81d4b92a20>,\n",
       "  <matplotlib.patches.Wedge at 0x7f81d4c0b400>,\n",
       "  <matplotlib.patches.Wedge at 0x7f81d4c0bd30>,\n",
       "  <matplotlib.patches.Wedge at 0x7f81d4c196a0>],\n",
       " [Text(1.0182963649936008, 0.4160198469313927, 'ANTI-WHITE'),\n",
       "  Text(0.7232735001571103, 0.8287794905585458, 'ANTI-MULTI RACIAL GROUPS'),\n",
       "  Text(-0.8426489168532446, 0.7070663355909783, 'ANTI-BLACK'),\n",
       "  Text(0.4752957612765681, -1.101859310126537, 'ANTI-ASIAN')],\n",
       " [Text(0.5554343809056004, 0.22691991650803237, '12.3%'),\n",
       "  Text(0.39451281826751466, 0.4520615403046613, '2.5%'),\n",
       "  Text(-0.45962668191995154, 0.3856725466859881, '48.1%'),\n",
       "  Text(0.2772558607446647, -0.6427512642404798, '37.0%')])"
      ]
     },
     "execution_count": 24,
     "metadata": {},
     "output_type": "execute_result"
    },
    {
     "data": {
      "image/png": "[encoded data removed]",
      "text/plain": [
       "<Figure size 432x288 with 1 Axes>"
      ]
     },
     "metadata": {},
     "output_type": "display_data"
    }
   ],
   "source": [
    "explode = (0, 0, 0, 0.1)\n",
    "plt.suptitle('Hate Crimes by Race in 2020')\n",
    "plt.pie(crimes_by_race_2020.toPandas()['Num'], explode = explode, labels = crimes_by_race_2020.toPandas()['Bias_Motive'], autopct='%1.1f%%', shadow=True)\n",
    "# plt.savefig(\"Hate Crimes by Race in 2020\")"
   ]
  },
  {
   "cell_type": "code",
   "execution_count": null,
   "metadata": {},
   "outputs": [],
   "source": []
  }
 ],
 "metadata": {
  "kernelspec": {
   "display_name": "Python 3",
   "language": "python",
   "name": "python3"
  },
  "language_info": {
   "codemirror_mode": {
    "name": "ipython",
    "version": 3
   },
   "file_extension": ".py",
   "mimetype": "text/x-python",
   "name": "python",
   "nbconvert_exporter": "python",
   "pygments_lexer": "ipython3",
   "version": "3.7.3"
  }
 },
 "nbformat": 4,
 "nbformat_minor": 2
}
