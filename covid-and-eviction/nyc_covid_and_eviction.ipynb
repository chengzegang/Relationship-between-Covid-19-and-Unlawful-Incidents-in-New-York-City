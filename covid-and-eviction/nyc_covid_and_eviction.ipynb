{
 "cells": [
  {
   "cell_type": "code",
   "execution_count": 38,
   "id": "educational-constitutional",
   "metadata": {},
   "outputs": [],
   "source": [
    "import sys\n",
    "from pyspark.sql import SparkSession\n",
    "from pyspark.sql.functions import *\n",
    "from geopy.geocoders import Nominatim"
   ]
  },
  {
   "cell_type": "code",
   "execution_count": 39,
   "id": "great-referral",
   "metadata": {},
   "outputs": [],
   "source": [
    "######################### Initialize SparkSession #########################\n",
    "spark = SparkSession \\\n",
    "    .builder \\\n",
    "    .appName(\"SparkSQL\") \\\n",
    "    .config(\"spark.some.config.option\", \"some-value\") \\\n",
    "    .getOrCreate()"
   ]
  },
  {
   "cell_type": "markdown",
   "id": "american-wisconsin",
   "metadata": {
    "heading_collapsed": true
   },
   "source": [
    "## Import data set"
   ]
  },
  {
   "cell_type": "code",
   "execution_count": 40,
   "id": "parliamentary-fireplace",
   "metadata": {
    "hidden": true
   },
   "outputs": [
    {
     "name": "stdout",
     "output_type": "stream",
     "text": [
      "root\n",
      " |-- indexnumberid: string (nullable = true)\n",
      " |-- court: string (nullable = true)\n",
      " |-- fileddate: string (nullable = true)\n",
      " |-- propertytype: string (nullable = true)\n",
      " |-- classification: string (nullable = true)\n",
      " |-- specialtydesignationtypes: string (nullable = true)\n",
      " |-- status: string (nullable = true)\n",
      " |-- disposeddate: string (nullable = true)\n",
      " |-- disposedreason: string (nullable = true)\n",
      " |-- firstpaper: string (nullable = true)\n",
      " |-- primaryclaimtotal: string (nullable = true)\n",
      " |-- dateofjurydemand: string (nullable = true)\n",
      "\n",
      "root\n",
      " |-- indexnumberid: string (nullable = true)\n",
      " |-- city: string (nullable = true)\n",
      " |-- state: string (nullable = true)\n",
      " |-- postalcode: string (nullable = true)\n",
      "\n"
     ]
    }
   ],
   "source": [
    "######################### Import data set  #########################\n",
    "# cases has basic information about each case. (One row for each case)\n",
    "# addresses has address of the properties that the case concerns. (Can be one or more entries for each case)\n",
    "######################### Import oca_index data set  #########################\n",
    "\n",
    "# load cases and addresses tables\n",
    "eviction_cases = spark.read.format('csv').options(\n",
    "    header='true', inferschema='true').load(\"data/eviction_cases.csv\")\n",
    "eviction_addresses = spark.read.format('csv').options(\n",
    "    header='true', inferschema='true').load(\"data/eviction_addresses.csv\")\n",
    "\n",
    "# create temp view for spark sql \n",
    "eviction_cases.createOrReplaceTempView(\"eviction_cases\")\n",
    "eviction_addresses.createOrReplaceTempView(\"eviction_addresses\")\n",
    "\n",
    "# print schema\n",
    "eviction_cases.printSchema()\n",
    "eviction_addresses.printSchema()\n",
    "\n"
   ]
  },
  {
   "cell_type": "markdown",
   "id": "alternative-chosen",
   "metadata": {
    "heading_collapsed": true
   },
   "source": [
    "## Total filling of eviction in NYC after NYC lockdown (03/20/2020)"
   ]
  },
  {
   "cell_type": "code",
   "execution_count": 41,
   "id": "amazing-gateway",
   "metadata": {
    "hidden": true
   },
   "outputs": [
    {
     "name": "stdout",
     "output_type": "stream",
     "text": [
      "+--------+\n",
      "|count(1)|\n",
      "+--------+\n",
      "|   42724|\n",
      "+--------+\n",
      "\n"
     ]
    }
   ],
   "source": [
    "######################### Total filling of eviction in NYC after NYC lockdown (03/20/2020) #########################\n",
    "\n",
    "# These classifications are consider eviction fillings: Holdover, Non-Payment\n",
    "\n",
    "# These court are in the NYC: Bronx County Civil Court, Kings County Civil Court, New York County Civil Court, Queens County Civil Court, \n",
    "# Richmond County Civil Court, Redhook Community Justice Center and Harlem Community Justice Center\n",
    "\n",
    "# We only retreive the cases after 03/20/2020 when NYC declared a city lockdown \n",
    "\n",
    "\n",
    "\n",
    "######################### Total filling of eviction in NYC after NYC lockdown (03/20/2020) #########################\n",
    "query = \"\"\"\n",
    "select count(*)\n",
    "from eviction_cases\n",
    "where fileddate > '2020-03-20'\n",
    "  and classification in ('Holdover','Non-Payment')\n",
    "  and court in (\n",
    "\t\t\t\t\t'Bronx County Civil Court',\n",
    "\t\t\t\t\t'Kings County Civil Court',\n",
    "\t\t\t\t\t'New York County Civil Court',\n",
    "\t\t\t\t\t'Queens County Civil Court',\n",
    "\t\t\t\t\t'Richmond County Civil Court',\n",
    "\t\t\t\t\t'Redhook Community Justice Center',\n",
    "\t\t\t\t\t'Harlem Community Justice Center'\n",
    "\t\t\t\t)\n",
    "\n",
    "\"\"\"\n",
    "total_eviction_filling_after_lockdown = spark.sql(query).show()"
   ]
  },
  {
   "cell_type": "markdown",
   "id": "julian-correlation",
   "metadata": {
    "heading_collapsed": true
   },
   "source": [
    "## Per case filed date and disposed date"
   ]
  },
  {
   "cell_type": "code",
   "execution_count": 42,
   "id": "fantastic-pottery",
   "metadata": {
    "hidden": true
   },
   "outputs": [
    {
     "name": "stdout",
     "output_type": "stream",
     "text": [
      "+----------+------------+----------+-------------+\n",
      "| fileddate|disposeddate|week_filed|week_disposed|\n",
      "+----------+------------+----------+-------------+\n",
      "|2020-03-24|        null|2020-03-23|         null|\n",
      "|2020-04-14|  2021-03-08|2020-04-13|   2021-03-08|\n",
      "|2020-04-14|        null|2020-04-13|         null|\n",
      "|2020-04-17|        null|2020-04-13|         null|\n",
      "|2020-05-12|        null|2020-05-11|         null|\n",
      "|2020-05-12|        null|2020-05-11|         null|\n",
      "|2020-05-12|        null|2020-05-11|         null|\n",
      "|2020-05-12|        null|2020-05-11|         null|\n",
      "|2020-06-15|        null|2020-06-15|         null|\n",
      "|2020-06-23|        null|2020-06-22|         null|\n",
      "|2020-06-23|        null|2020-06-22|         null|\n",
      "|2020-06-25|        null|2020-06-22|         null|\n",
      "|2020-06-25|        null|2020-06-22|         null|\n",
      "|2020-06-26|        null|2020-06-22|         null|\n",
      "|2020-06-26|        null|2020-06-22|         null|\n",
      "|2020-06-29|        null|2020-06-29|         null|\n",
      "|2020-06-30|        null|2020-06-29|         null|\n",
      "|2020-06-30|          27|2020-06-29|         null|\n",
      "|2020-06-30|        null|2020-06-29|         null|\n",
      "|2020-07-01|  2021-01-20|2020-06-29|   2021-01-18|\n",
      "+----------+------------+----------+-------------+\n",
      "only showing top 20 rows\n",
      "\n"
     ]
    }
   ],
   "source": [
    "######################### case file date and disposed date #########################\n",
    "\n",
    "# Each row represents each eviction case's fileddate, disposeddate, week_filed and week_disposed\n",
    "# This is used for later data cleanning and integration\n",
    "\n",
    "######################### case file date and disposed date #########################\n",
    "query_after_lockdown_eviction_cases = \"\"\"\n",
    "select fileddate,\n",
    "       disposeddate,\n",
    "       cast(date_trunc('week', fileddate) as date)    as week_filed,\n",
    "       cast(date_trunc('week', disposeddate) as date) as week_disposed\n",
    "from eviction_cases\n",
    "where classification in ('Holdover', 'Non-Payment')\n",
    "  and court in ('Bronx County Civil Court',\n",
    "                'Kings County Civil Court',\n",
    "                'New York County Civil Court',\n",
    "                'Queens County Civil Court',\n",
    "                'Richmond County Civil Court',\n",
    "                'Redhook Community Justice Center',\n",
    "                'Harlem Community Justice Center')\n",
    "  and fileddate > '2020-03-20'\n",
    "  --and propertytype = 'Residential' # commented out to show Statewide evictions, which includes commercial\n",
    "order by fileddate asc\n",
    "\"\"\"\n",
    "after_lockdown_eviction_cases = spark.sql(query_after_lockdown_eviction_cases)\n",
    "after_lockdown_eviction_cases.show()"
   ]
  },
  {
   "cell_type": "markdown",
   "id": "plain-rachel",
   "metadata": {
    "heading_collapsed": true
   },
   "source": [
    "## Per week case filed date and disposed date with running sum and total active cases"
   ]
  },
  {
   "cell_type": "code",
   "execution_count": 43,
   "id": "worst-minority",
   "metadata": {
    "hidden": true
   },
   "outputs": [
    {
     "name": "stdout",
     "output_type": "stream",
     "text": [
      "+-----------------+-----------+--------------+----------------------+-------------------------+------------+\n",
      "|first_day_of_week|cases_filed|cases_disposed|cumulative_cases_filed|cumulative_cases_disposed|active_cases|\n",
      "+-----------------+-----------+--------------+----------------------+-------------------------+------------+\n",
      "|       2020-03-23|          1|             0|                     1|                        0|           1|\n",
      "|       2020-04-13|          3|             1|                     4|                        1|           3|\n",
      "|       2020-05-11|          4|             0|                     8|                        1|           7|\n",
      "|       2020-06-15|          1|             0|                     9|                        1|           8|\n",
      "|       2020-06-22|          6|             0|                    15|                        1|          14|\n",
      "|       2020-06-29|         22|             2|                    37|                        3|          34|\n",
      "|       2020-07-06|         79|             8|                   116|                       11|         105|\n",
      "|       2020-07-13|        273|            31|                   389|                       42|         347|\n",
      "|       2020-07-20|        422|            31|                   811|                       73|         738|\n",
      "|       2020-07-27|       1186|            68|                  1997|                      141|        1856|\n",
      "|       2020-08-03|        607|            21|                  2604|                      162|        2442|\n",
      "|       2020-08-10|       1188|            71|                  3792|                      233|        3559|\n",
      "|       2020-08-17|       1487|            70|                  5279|                      303|        4976|\n",
      "|       2020-08-24|       2309|           132|                  7588|                      435|        7153|\n",
      "|       2020-08-31|       1881|            88|                  9469|                      523|        8946|\n",
      "|       2020-09-07|       1507|            54|                 10976|                      577|       10399|\n",
      "|       2020-09-14|       1718|            74|                 12694|                      651|       12043|\n",
      "|       2020-09-21|       1961|           103|                 14655|                      754|       13901|\n",
      "|       2020-09-28|       1522|            70|                 16177|                      824|       15353|\n",
      "|       2020-10-05|       1938|            78|                 18115|                      902|       17213|\n",
      "+-----------------+-----------+--------------+----------------------+-------------------------+------------+\n",
      "only showing top 20 rows\n",
      "\n"
     ]
    }
   ],
   "source": [
    "######################### case file date and disposed date with running sum and total active cases #########################\n",
    "\n",
    "# Each row represents each week (starting from 03/20/2020), the number of cases has been filed, the number of cases has been disposed,\n",
    "# the cumulative cases for each one\n",
    "# and the total active cases (filed_cases - disposed_cases)\n",
    "\n",
    "# Will draw a time series graph using this data\n",
    "\n",
    "######################### case file date and disposed date with running sum and total active cases #########################\n",
    "query_eviction_cases_time_and_summary = \"\"\"\n",
    "with after_lockdown as (\n",
    "    select fileddate,\n",
    "           cast(date_trunc('week', fileddate) as date)    as week_filed,\n",
    "           disposeddate,\n",
    "           cast(date_trunc('week', disposeddate) as date) as week_disposed\n",
    "    from eviction_cases\n",
    "    where classification in ('Holdover', 'Non-Payment')\n",
    "      and court in ('Bronx County Civil Court',\n",
    "                    'Kings County Civil Court',\n",
    "                    'New York County Civil Court',\n",
    "                    'Queens County Civil Court',\n",
    "                    'Richmond County Civil Court',\n",
    "                    'Redhook Community Justice Center',\n",
    "                    'Harlem Community Justice Center')\n",
    "      and fileddate > '2020-03-20'\n",
    "    order by fileddate asc),\n",
    "\n",
    "     group_by_week as (\n",
    "         select week_filed                                        as first_day_of_week,\n",
    "                count(*) filter (where week_filed is not null)    as cases_filed,\n",
    "                count(*) filter (where week_disposed is not null) as cases_disposed\n",
    "         from after_lockdown\n",
    "         group by week_filed\n",
    "         order by week_filed)\n",
    "\n",
    "select first_day_of_week,\n",
    "       cases_filed,\n",
    "       cases_disposed,\n",
    "       sum(cases_filed) over (order by first_day_of_week)      as cumulative_cases_filed,\n",
    "       sum(cases_disposed) over (order by first_day_of_week)   as cumulative_cases_disposed,\n",
    "       (sum(cases_filed) over (order by first_day_of_week) -\n",
    "        sum(cases_disposed) over (order by first_day_of_week)) as active_cases\n",
    "from group_by_week\n",
    "\"\"\"\n",
    "\n",
    "eviction_cases_time_and_summary = spark.sql(query_eviction_cases_time_and_summary)\n",
    "eviction_cases_time_and_summary.show()"
   ]
  },
  {
   "cell_type": "code",
   "execution_count": 44,
   "id": "final-commodity",
   "metadata": {
    "hidden": true
   },
   "outputs": [],
   "source": [
    "######################### time serise data visz #########################\n",
    "# TODO:\n",
    "\n"
   ]
  },
  {
   "cell_type": "markdown",
   "id": "elder-usage",
   "metadata": {},
   "source": [
    "## Case by zip code"
   ]
  },
  {
   "cell_type": "code",
   "execution_count": 45,
   "id": "assigned-attempt",
   "metadata": {},
   "outputs": [
    {
     "name": "stdout",
     "output_type": "stream",
     "text": [
      "+--------+-----+\n",
      "|zip_code|total|\n",
      "+--------+-----+\n",
      "|   10001|  232|\n",
      "|   10002|  189|\n",
      "|   10003|  151|\n",
      "|   10004|   24|\n",
      "|   10005|   53|\n",
      "|   10006|   17|\n",
      "|   10007|   13|\n",
      "|   10009|  108|\n",
      "|   10010|   45|\n",
      "|   10011|  207|\n",
      "|   10012|   94|\n",
      "|   10013|   62|\n",
      "|   10014|  138|\n",
      "|   10015|    1|\n",
      "|   10016|  184|\n",
      "|   10017|   83|\n",
      "|   10018|  128|\n",
      "|   10019|  342|\n",
      "|   10020|    1|\n",
      "|   10021|  108|\n",
      "+--------+-----+\n",
      "only showing top 20 rows\n",
      "\n"
     ]
    }
   ],
   "source": [
    "######################### Case by zip code  #########################\n",
    "query_eviction_cases_by_zipcode = \"\"\"\n",
    "with cases_zip as (select substr(postalcode, 1, 5) as zip_code\n",
    "                   from eviction_cases\n",
    "                            left join eviction_addresses on eviction_cases.indexnumberid = eviction_addresses.indexnumberid\n",
    "                   where classification in ('Holdover', 'Non-Payment')\n",
    "                     and court in ('Bronx County Civil Court',\n",
    "                                   'Kings County Civil Court',\n",
    "                                   'New York County Civil Court',\n",
    "                                   'Queens County Civil Court',\n",
    "                                   'Richmond County Civil Court',\n",
    "                                   'Redhook Community Justice Center',\n",
    "                                   'Harlem Community Justice Center')\n",
    "                     and fileddate > '2020-03-20'\n",
    "                     and postalcode is not null\n",
    "                     and cast(substr(postalcode, 1, 5) as int) > 1\n",
    "                     and cast(substr(postalcode, 1, 5) as int) < 20000\n",
    "                   order by fileddate asc)\n",
    "\n",
    "select zip_code,\n",
    "       count(*) as total\n",
    "from cases_zip\n",
    "group by zip_code\n",
    "order by zip_code\n",
    "\"\"\"\n",
    "\n",
    "eviction_cases_by_zipcode = spark.sql(query_eviction_cases_by_zipcode)\n",
    "eviction_cases_by_zipcode.show()"
   ]
  },
  {
   "cell_type": "code",
   "execution_count": 67,
   "id": "novel-miami",
   "metadata": {},
   "outputs": [],
   "source": [
    "# geolocator client\n",
    "geolocator = Nominatim(user_agent=\"my-app\")\n",
    "locations = geolocator.geocode({\"postalcode\": 10010})\n"
   ]
  },
  {
   "cell_type": "code",
   "execution_count": 73,
   "id": "indian-massachusetts",
   "metadata": {},
   "outputs": [
    {
     "name": "stdout",
     "output_type": "stream",
     "text": [
      "40.73988035963598 -73.98521246413527\n"
     ]
    }
   ],
   "source": [
    "# Zip code to lon lat\n",
    "lat = locations.raw['lat']\n",
    "long = locations.raw['lon']\n",
    "print(lat, long)\n",
    "# print(locations.raw)\n",
    "# geolocator.reverse((lat, long))\n"
   ]
  },
  {
   "cell_type": "markdown",
   "id": "checked-review",
   "metadata": {},
   "source": [
    "## Export cleaned data"
   ]
  },
  {
   "cell_type": "code",
   "execution_count": 46,
   "id": "economic-soundtrack",
   "metadata": {},
   "outputs": [],
   "source": [
    "after_lockdown_eviction_cases\n",
    "eviction_cases_by_zipcode.coalesce(1).write.format('com.databricks.spark.csv').option('header', 'true').mode('overwrite').save('data/cleaned_data/eviction_cases_by_zipcode')\n",
    "eviction_cases_time_and_summary.coalesce(1).write.format('com.databricks.spark.csv').option('header', 'true').mode('overwrite').save('data/cleaned_data/eviction_cases_time_and_summary')\n",
    "\n"
   ]
  },
  {
   "cell_type": "code",
   "execution_count": null,
   "id": "similar-darwin",
   "metadata": {},
   "outputs": [],
   "source": []
  }
 ],
 "metadata": {
  "kernelspec": {
   "display_name": "Python 3",
   "language": "python",
   "name": "python3"
  },
  "language_info": {
   "codemirror_mode": {
    "name": "ipython",
    "version": 3
   },
   "file_extension": ".py",
   "mimetype": "text/x-python",
   "name": "python",
   "nbconvert_exporter": "python",
   "pygments_lexer": "ipython3",
   "version": "3.8.8"
  },
  "toc": {
   "base_numbering": 1,
   "nav_menu": {},
   "number_sections": true,
   "sideBar": true,
   "skip_h1_title": false,
   "title_cell": "Table of Contents",
   "title_sidebar": "Contents",
   "toc_cell": false,
   "toc_position": {},
   "toc_section_display": true,
   "toc_window_display": false
  },
  "varInspector": {
   "cols": {
    "lenName": 16,
    "lenType": 16,
    "lenVar": 40
   },
   "kernels_config": {
    "python": {
     "delete_cmd_postfix": "",
     "delete_cmd_prefix": "del ",
     "library": "var_list.py",
     "varRefreshCmd": "print(var_dic_list())"
    },
    "r": {
     "delete_cmd_postfix": ") ",
     "delete_cmd_prefix": "rm(",
     "library": "var_list.r",
     "varRefreshCmd": "cat(var_dic_list()) "
    }
   },
   "types_to_exclude": [
    "module",
    "function",
    "builtin_function_or_method",
    "instance",
    "_Feature"
   ],
   "window_display": false
  }
 },
 "nbformat": 4,
 "nbformat_minor": 5
}
