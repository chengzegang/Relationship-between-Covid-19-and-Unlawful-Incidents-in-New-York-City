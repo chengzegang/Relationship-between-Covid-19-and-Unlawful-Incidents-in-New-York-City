{
 "cells": [
  {
   "cell_type": "code",
   "execution_count": 154,
   "id": "educational-constitutional",
   "metadata": {},
   "outputs": [],
   "source": [
    "import sys\n",
    "from pyspark.sql import SparkSession\n",
    "from pyspark.sql.functions import *"
   ]
  },
  {
   "cell_type": "code",
   "execution_count": 155,
   "id": "great-referral",
   "metadata": {},
   "outputs": [],
   "source": [
    "######################### Initialize SparkSession #########################\n",
    "spark = SparkSession \\\n",
    "    .builder \\\n",
    "    .appName(\"SparkSQL\") \\\n",
    "    .config(\"spark.some.config.option\", \"some-value\") \\\n",
    "    .getOrCreate()"
   ]
  },
  {
   "cell_type": "code",
   "execution_count": 156,
   "id": "parliamentary-fireplace",
   "metadata": {},
   "outputs": [
    {
     "name": "stdout",
     "output_type": "stream",
     "text": [
      "root\n",
      " |-- indexnumberid: string (nullable = true)\n",
      " |-- court: string (nullable = true)\n",
      " |-- fileddate: string (nullable = true)\n",
      " |-- propertytype: string (nullable = true)\n",
      " |-- classification: string (nullable = true)\n",
      " |-- specialtydesignationtypes: string (nullable = true)\n",
      " |-- status: string (nullable = true)\n",
      " |-- disposeddate: string (nullable = true)\n",
      " |-- disposedreason: string (nullable = true)\n",
      " |-- firstpaper: string (nullable = true)\n",
      " |-- primaryclaimtotal: string (nullable = true)\n",
      " |-- dateofjurydemand: string (nullable = true)\n",
      "\n",
      "root\n",
      " |-- indexnumberid: string (nullable = true)\n",
      " |-- city: string (nullable = true)\n",
      " |-- state: string (nullable = true)\n",
      " |-- postalcode: string (nullable = true)\n",
      "\n"
     ]
    }
   ],
   "source": [
    "######################### Import oca_index data set  #########################\n",
    "# cases has basic information about each case. (One row for each case)\n",
    "# addresses has address of the properties that the case concerns. (Can be one or more entries for each case)\n",
    "######################### Import oca_index data set  #########################\n",
    "\n",
    "# load cases and addresses tables\n",
    "cases = spark.read.format('csv').options(\n",
    "    header='true', inferschema='true').load(\"data/cases.csv\")\n",
    "addresses = spark.read.format('csv').options(\n",
    "    header='true', inferschema='true').load(\"data/addresses.csv\")\n",
    "\n",
    "# create temp view for spark sql \n",
    "cases.createOrReplaceTempView(\"cases\")\n",
    "addresses.createOrReplaceTempView(\"addresses\")\n",
    "\n",
    "# print schema\n",
    "cases.printSchema()\n",
    "addresses.printSchema()\n",
    "\n"
   ]
  },
  {
   "cell_type": "code",
   "execution_count": 157,
   "id": "amazing-gateway",
   "metadata": {},
   "outputs": [
    {
     "name": "stdout",
     "output_type": "stream",
     "text": [
      "+--------+\n",
      "|count(1)|\n",
      "+--------+\n",
      "|   42724|\n",
      "+--------+\n",
      "\n"
     ]
    }
   ],
   "source": [
    "######################### Total filling of eviction in NYC after NYC lockdown (03/20/2020) #########################\n",
    "\n",
    "# These classifications are consider eviction fillings: Holdover, Non-Payment\n",
    "\n",
    "# These court are in the NYC: Bronx County Civil Court, Kings County Civil Court, New York County Civil Court, Queens County Civil Court, \n",
    "# Richmond County Civil Court, Redhook Community Justice Center and Harlem Community Justice Center\n",
    "\n",
    "# We only retreive the cases after 03/20/2020 when NYC declared a city lockdown \n",
    "\n",
    "\n",
    "\n",
    "######################### Total filling of eviction in NYC after NYC lockdown (03/20/2020) #########################\n",
    "query = \"\"\"\n",
    "select count(*)\n",
    "from cases\n",
    "where fileddate > '2020-03-20'\n",
    "  and classification in ('Holdover','Non-Payment')\n",
    "  and court in (\n",
    "\t\t\t\t\t'Bronx County Civil Court',\n",
    "\t\t\t\t\t'Kings County Civil Court',\n",
    "\t\t\t\t\t'New York County Civil Court',\n",
    "\t\t\t\t\t'Queens County Civil Court',\n",
    "\t\t\t\t\t'Richmond County Civil Court',\n",
    "\t\t\t\t\t'Redhook Community Justice Center',\n",
    "\t\t\t\t\t'Harlem Community Justice Center'\n",
    "\t\t\t\t)\n",
    "\n",
    "\"\"\"\n",
    "total_filling_after_lockdown = spark.sql(query).show()"
   ]
  },
  {
   "cell_type": "code",
   "execution_count": 158,
   "id": "fantastic-pottery",
   "metadata": {},
   "outputs": [
    {
     "name": "stdout",
     "output_type": "stream",
     "text": [
      "+----------+------------+----------+-------------+\n",
      "| fileddate|disposeddate|week_filed|week_disposed|\n",
      "+----------+------------+----------+-------------+\n",
      "|2020-03-24|        null|2020-03-23|         null|\n",
      "|2020-04-14|  2021-03-08|2020-04-13|   2021-03-08|\n",
      "|2020-04-14|        null|2020-04-13|         null|\n",
      "|2020-04-17|        null|2020-04-13|         null|\n",
      "|2020-05-12|        null|2020-05-11|         null|\n",
      "|2020-05-12|        null|2020-05-11|         null|\n",
      "|2020-05-12|        null|2020-05-11|         null|\n",
      "|2020-05-12|        null|2020-05-11|         null|\n",
      "|2020-06-15|        null|2020-06-15|         null|\n",
      "|2020-06-23|        null|2020-06-22|         null|\n",
      "|2020-06-23|        null|2020-06-22|         null|\n",
      "|2020-06-25|        null|2020-06-22|         null|\n",
      "|2020-06-25|        null|2020-06-22|         null|\n",
      "|2020-06-26|        null|2020-06-22|         null|\n",
      "|2020-06-26|        null|2020-06-22|         null|\n",
      "|2020-06-29|        null|2020-06-29|         null|\n",
      "|2020-06-30|        null|2020-06-29|         null|\n",
      "|2020-06-30|          27|2020-06-29|         null|\n",
      "|2020-06-30|        null|2020-06-29|         null|\n",
      "|2020-07-01|  2021-01-20|2020-06-29|   2021-01-18|\n",
      "+----------+------------+----------+-------------+\n",
      "only showing top 20 rows\n",
      "\n"
     ]
    }
   ],
   "source": [
    "######################### case file date and disposed date #########################\n",
    "\n",
    "# Each row represents each eviction case's fileddate, disposeddate, week_filed and week_disposed\n",
    "# This is used for later data cleanning and integration\n",
    "\n",
    "######################### case file date and disposed date #########################\n",
    "query_after_lockdown_cases = \"\"\"\n",
    "select fileddate,\n",
    "       disposeddate,\n",
    "       cast(date_trunc('week', fileddate) as date)    as week_filed,\n",
    "       cast(date_trunc('week', disposeddate) as date) as week_disposed\n",
    "from cases\n",
    "where classification in ('Holdover', 'Non-Payment')\n",
    "  and court in ('Bronx County Civil Court',\n",
    "                'Kings County Civil Court',\n",
    "                'New York County Civil Court',\n",
    "                'Queens County Civil Court',\n",
    "                'Richmond County Civil Court',\n",
    "                'Redhook Community Justice Center',\n",
    "                'Harlem Community Justice Center')\n",
    "  and fileddate > '2020-03-20'\n",
    "  --and propertytype = 'Residential' # commented out to show Statewide evictions, which includes commercial\n",
    "order by fileddate asc\n",
    "\"\"\"\n",
    "after_lockdown_cases = spark.sql(query_after_lockdown_cases).show()"
   ]
  },
  {
   "cell_type": "code",
   "execution_count": 159,
   "id": "worst-minority",
   "metadata": {},
   "outputs": [
    {
     "name": "stdout",
     "output_type": "stream",
     "text": [
      "+-----------------+-----------+--------------+----------------------+-------------------------+------------+\n",
      "|first_day_of_week|cases_filed|cases_disposed|cumulative_cases_filed|cumulative_cases_disposed|active_cases|\n",
      "+-----------------+-----------+--------------+----------------------+-------------------------+------------+\n",
      "|       2020-03-23|          1|             0|                     1|                        0|           1|\n",
      "|       2020-04-13|          3|             1|                     4|                        1|           3|\n",
      "|       2020-05-11|          4|             0|                     8|                        1|           7|\n",
      "|       2020-06-15|          1|             0|                     9|                        1|           8|\n",
      "|       2020-06-22|          6|             0|                    15|                        1|          14|\n",
      "|       2020-06-29|         22|             2|                    37|                        3|          34|\n",
      "|       2020-07-06|         79|             8|                   116|                       11|         105|\n",
      "|       2020-07-13|        273|            31|                   389|                       42|         347|\n",
      "|       2020-07-20|        422|            31|                   811|                       73|         738|\n",
      "|       2020-07-27|       1186|            68|                  1997|                      141|        1856|\n",
      "|       2020-08-03|        607|            21|                  2604|                      162|        2442|\n",
      "|       2020-08-10|       1188|            71|                  3792|                      233|        3559|\n",
      "|       2020-08-17|       1487|            70|                  5279|                      303|        4976|\n",
      "|       2020-08-24|       2309|           132|                  7588|                      435|        7153|\n",
      "|       2020-08-31|       1881|            88|                  9469|                      523|        8946|\n",
      "|       2020-09-07|       1507|            54|                 10976|                      577|       10399|\n",
      "|       2020-09-14|       1718|            74|                 12694|                      651|       12043|\n",
      "|       2020-09-21|       1961|           103|                 14655|                      754|       13901|\n",
      "|       2020-09-28|       1522|            70|                 16177|                      824|       15353|\n",
      "|       2020-10-05|       1938|            78|                 18115|                      902|       17213|\n",
      "+-----------------+-----------+--------------+----------------------+-------------------------+------------+\n",
      "only showing top 20 rows\n",
      "\n"
     ]
    }
   ],
   "source": [
    "######################### case file date and disposed date with running sum and total active cases #########################\n",
    "\n",
    "# Each row represents each week (starting from 03/20/2020), the number of cases has been filed, the number of cases has been disposed,\n",
    "# the cumulative cases for each one\n",
    "# and the total active cases (filed_cases - disposed_cases)\n",
    "\n",
    "# Will draw a time series graph using this data\n",
    "\n",
    "######################### case file date and disposed date with running sum and total active cases #########################\n",
    "query_cases_time_and_summary = \"\"\"\n",
    "with after_lockdown as (\n",
    "    select fileddate,\n",
    "           cast(date_trunc('week', fileddate) as date)    as week_filed,\n",
    "           disposeddate,\n",
    "           cast(date_trunc('week', disposeddate) as date) as week_disposed\n",
    "    from cases\n",
    "    where classification in ('Holdover', 'Non-Payment')\n",
    "      and court in ('Bronx County Civil Court',\n",
    "                    'Kings County Civil Court',\n",
    "                    'New York County Civil Court',\n",
    "                    'Queens County Civil Court',\n",
    "                    'Richmond County Civil Court',\n",
    "                    'Redhook Community Justice Center',\n",
    "                    'Harlem Community Justice Center')\n",
    "      and fileddate > '2020-03-20'\n",
    "    order by fileddate asc),\n",
    "\n",
    "     group_by_week as (\n",
    "         select week_filed                                        as first_day_of_week,\n",
    "                count(*) filter (where week_filed is not null)    as cases_filed,\n",
    "                count(*) filter (where week_disposed is not null) as cases_disposed\n",
    "         from after_lockdown\n",
    "         group by week_filed\n",
    "         order by week_filed)\n",
    "\n",
    "select first_day_of_week,\n",
    "       cases_filed,\n",
    "       cases_disposed,\n",
    "       sum(cases_filed) over (order by first_day_of_week)      as cumulative_cases_filed,\n",
    "       sum(cases_disposed) over (order by first_day_of_week)   as cumulative_cases_disposed,\n",
    "       (sum(cases_filed) over (order by first_day_of_week) -\n",
    "        sum(cases_disposed) over (order by first_day_of_week)) as active_cases\n",
    "from group_by_week\n",
    "\"\"\"\n",
    "\n",
    "cases_time_and_summary = spark.sql(query_cases_time_and_summary).show()"
   ]
  },
  {
   "cell_type": "code",
   "execution_count": 160,
   "id": "incident-median",
   "metadata": {},
   "outputs": [],
   "source": [
    "######################### time serise data visz #########################\n",
    "# TODO:\n",
    "\n"
   ]
  },
  {
   "cell_type": "code",
   "execution_count": 161,
   "id": "light-donor",
   "metadata": {},
   "outputs": [
    {
     "name": "stdout",
     "output_type": "stream",
     "text": [
      "+--------+\n",
      "|zip_code|\n",
      "+--------+\n",
      "|   11372|\n",
      "|   10456|\n",
      "|   10456|\n",
      "|   11208|\n",
      "|   11203|\n",
      "|   11203|\n",
      "|   11203|\n",
      "|   11203|\n",
      "|   11213|\n",
      "|   10001|\n",
      "|   10001|\n",
      "|   10462|\n",
      "|   10457|\n",
      "|   11420|\n",
      "|   10465|\n",
      "|   10451|\n",
      "|   10031|\n",
      "|   10028|\n",
      "|   10017|\n",
      "|   10469|\n",
      "+--------+\n",
      "only showing top 20 rows\n",
      "\n"
     ]
    }
   ],
   "source": [
    "######################### Case by zip code  #########################\n",
    "query_cases_by_zipcode = \"\"\"\n",
    "select substr(postalcode, 1, 5) as zip_code\n",
    "from cases\n",
    "         left join addresses address on cases.indexnumberid = address.indexnumberid\n",
    "where classification in ('Holdover', 'Non-Payment')\n",
    "  and court in ('Bronx County Civil Court',\n",
    "                'Kings County Civil Court',\n",
    "                'New York County Civil Court',\n",
    "                'Queens County Civil Court',\n",
    "                'Richmond County Civil Court',\n",
    "                'Redhook Community Justice Center',\n",
    "                'Harlem Community Justice Center')\n",
    "  and fileddate > '2020-03-20'\n",
    "  and postalcode is not null\n",
    "order by fileddate asc\n",
    "\"\"\"\n",
    "\n",
    "cases_by_zipcode = spark.sql(query_cases_by_zipcode).show()"
   ]
  },
  {
   "cell_type": "code",
   "execution_count": 162,
   "id": "level-video",
   "metadata": {},
   "outputs": [],
   "source": [
    "######################### case by zip code data visz #########################\n",
    "# TODO:\n"
   ]
  },
  {
   "cell_type": "code",
   "execution_count": 163,
   "id": "valid-requirement",
   "metadata": {},
   "outputs": [],
   "source": [
    "spark.stop()"
   ]
  }
 ],
 "metadata": {
  "kernelspec": {
   "display_name": "Python 3",
   "language": "python",
   "name": "python3"
  },
  "language_info": {
   "codemirror_mode": {
    "name": "ipython",
    "version": 3
   },
   "file_extension": ".py",
   "mimetype": "text/x-python",
   "name": "python",
   "nbconvert_exporter": "python",
   "pygments_lexer": "ipython3",
   "version": "3.8.8"
  },
  "toc": {
   "base_numbering": 1,
   "nav_menu": {},
   "number_sections": true,
   "sideBar": true,
   "skip_h1_title": false,
   "title_cell": "Table of Contents",
   "title_sidebar": "Contents",
   "toc_cell": false,
   "toc_position": {},
   "toc_section_display": true,
   "toc_window_display": false
  },
  "varInspector": {
   "cols": {
    "lenName": 16,
    "lenType": 16,
    "lenVar": 40
   },
   "kernels_config": {
    "python": {
     "delete_cmd_postfix": "",
     "delete_cmd_prefix": "del ",
     "library": "var_list.py",
     "varRefreshCmd": "print(var_dic_list())"
    },
    "r": {
     "delete_cmd_postfix": ") ",
     "delete_cmd_prefix": "rm(",
     "library": "var_list.r",
     "varRefreshCmd": "cat(var_dic_list()) "
    }
   },
   "types_to_exclude": [
    "module",
    "function",
    "builtin_function_or_method",
    "instance",
    "_Feature"
   ],
   "window_display": false
  }
 },
 "nbformat": 4,
 "nbformat_minor": 5
}
